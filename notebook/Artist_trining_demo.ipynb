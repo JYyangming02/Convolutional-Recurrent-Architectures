{
 "cells": [
  {
   "cell_type": "code",
   "execution_count": null,
   "metadata": {},
   "outputs": [],
   "source": [
    "# WikiArt Training Result Demo - Artist Classification\n",
    "\n",
    "import matplotlib.pyplot as plt\n",
    "from IPython.display import Image, display\n",
    "from IPython.display import Markdown\n",
    "\n",
    "# Show training curves\n",
    "print(\"\\n🎨 Artist Task - Training Curves:\")\n",
    "display(Image(filename=\"./checkpoints/combined_metrics.png\"))\n",
    "\n",
    "# Show confusion matrix\n",
    "print(\"\\nArtist Task - Confusion Matrix:\")\n",
    "display(Image(filename=\"./confusion_matrix.png\"))\n",
    "\n",
    "# Show model summary\n",
    "print(\"\\nModel and Task Summary:\")\n",
    "display(Markdown(\"\"\"\n",
    "### Model: ResNet50(pre-training) + LSTM\n",
    "- Task: **Artist Classification**\n",
    "- Dataset: WikiArt\n",
    "- Number of classes: Based on `artist_class`\n",
    "- Training Epochs: Up to 50 (with early stopping)\n",
    "- Best model saved to: `checkpoints/best_model.pt`\n",
    "- Evaluation includes: Loss / Accuracy curves, Confusion Matrix, Classification Report\n",
    "\"\"\"))"
   ]
  }
 ],
 "metadata": {
  "kernelspec": {
   "display_name": "cuda",
   "language": "python",
   "name": "python3"
  },
  "language_info": {
   "name": "python",
   "version": "3.10.16"
  }
 },
 "nbformat": 4,
 "nbformat_minor": 2
}
