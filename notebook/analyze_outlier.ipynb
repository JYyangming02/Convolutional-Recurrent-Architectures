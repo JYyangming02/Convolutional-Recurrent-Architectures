{
 "cells": [
  {
   "cell_type": "code",
   "execution_count": null,
   "metadata": {},
   "outputs": [],
   "source": [
    "import os\n",
    "import torch\n",
    "import torch.nn.functional as F\n",
    "\n",
    "from torch.utils.data import DataLoader\n",
    "from torchvision import transforms\n",
    "from tqdm import tqdm\n",
    "from datasets.data_loader import WikiArtDataset, collate_skip_none\n",
    "from models.Resnet_LSTM import ResNetLSTM\n",
    "import matplotlib.pyplot as plt\n",
    "from PIL import Image"
   ]
  },
  {
   "cell_type": "code",
   "execution_count": null,
   "metadata": {},
   "outputs": [],
   "source": [
    "def analyze_model_uncertainty(task=\"genre\", top_n=20):\n",
    "    # === CONFIG ===\n",
    "    image_root = \"./datasets/wikiart\"\n",
    "    train_file = f\"./datasets/{task}_train\"\n",
    "    val_file = f\"./datasets/{task}_val\"\n",
    "    class_file = f\"./datasets/{task}_class\"\n",
    "\n",
    "    model_path = f\"checkpoints/{task}_best_model.pt\"\n",
    "    outlier_dir = \"outliers\"\n",
    "    os.makedirs(outlier_dir, exist_ok=True)\n",
    "\n",
    "    device = torch.device(\"cuda\" if torch.cuda.is_available() else \"cpu\")\n",
    "    num_classes = len(open(class_file).readlines())\n",
    "\n",
    "    transform = transforms.Compose([\n",
    "        transforms.Resize((224, 224)),\n",
    "        transforms.ToTensor(),\n",
    "        transforms.Normalize([0.5, 0.5, 0.5], [0.5, 0.5, 0.5])\n",
    "    ])\n",
    "\n",
    "    # === Load data and model ===\n",
    "    dataset = WikiArtDataset(val_file, image_root, transform)\n",
    "    dataloader = DataLoader(dataset, batch_size=1, shuffle=False, collate_fn=collate_skip_none)\n",
    "\n",
    "    model = ResNetLSTM(num_classes=num_classes)\n",
    "    model.load_state_dict(torch.load(model_path, map_location=device))\n",
    "    model.to(device)\n",
    "    model.eval()\n",
    "\n",
    "    # === Analyze uncertainty ===\n",
    "    entropy_list = []\n",
    "    softmax = torch.nn.Softmax(dim=1)\n",
    "\n",
    "    with torch.no_grad():\n",
    "        for idx, batch in enumerate(tqdm(dataloader, desc=\"Analyzing\")):\n",
    "            if batch is None:\n",
    "                continue\n",
    "            image, label = batch\n",
    "            image = image.to(device)\n",
    "            output = model(image)\n",
    "            prob = softmax(output)\n",
    "\n",
    "            entropy = -torch.sum(prob * torch.log(prob + 1e-9), dim=1).item()\n",
    "            predicted = prob.argmax(dim=1).item()\n",
    "            true_label = label.item()\n",
    "\n",
    "            entropy_list.append((entropy, predicted, true_label, dataset.samples[idx][0]))\n",
    "\n",
    "    # === Sort by highest entropy (most uncertain) ===\n",
    "    entropy_list.sort(reverse=True, key=lambda x: x[0])\n",
    "\n",
    "    # === Save top-N outliers ===\n",
    "    print(f\"\\nTop {top_n} most uncertain predictions (possible outliers):\")\n",
    "    for i in range(min(top_n, len(entropy_list))):\n",
    "        ent, pred, true, path = entropy_list[i]\n",
    "        print(f\"[{i+1}] Entropy: {ent:.4f} | True: {true} | Pred: {pred} | {path}\")\n",
    "        try:\n",
    "            img = Image.open(path).convert(\"RGB\")\n",
    "            plt.imshow(img)\n",
    "            plt.title(f\"Entropy: {ent:.2f}\\nTrue: {true} | Pred: {pred}\")\n",
    "            plt.axis(\"off\")\n",
    "            plt.savefig(os.path.join(outlier_dir, f\"outlier_{i+1}.png\"))\n",
    "            plt.close()\n",
    "        except Exception as e:\n",
    "            print(f\"Failed to save image: {path}, error: {e}\")"
   ]
  },
  {
   "cell_type": "code",
   "execution_count": null,
   "metadata": {},
   "outputs": [],
   "source": [
    "analyze_model_uncertainty(task=\"artist\", top_n=20)"
   ]
  },
  {
   "cell_type": "code",
   "execution_count": null,
   "metadata": {},
   "outputs": [],
   "source": [
    "analyze_model_uncertainty(task=\"genre\", top_n=20)"
   ]
  },
  {
   "cell_type": "code",
   "execution_count": null,
   "metadata": {},
   "outputs": [],
   "source": [
    "analyze_model_uncertainty(task=\"style\", top_n=20)"
   ]
  }
 ],
 "metadata": {
  "kernelspec": {
   "display_name": "cuda",
   "language": "python",
   "name": "python3"
  },
  "language_info": {
   "name": "python",
   "version": "3.10.16"
  }
 },
 "nbformat": 4,
 "nbformat_minor": 2
}
